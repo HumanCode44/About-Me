{
  "nbformat": 4,
  "nbformat_minor": 0,
  "metadata": {
    "colab": {
      "provenance": [],
      "collapsed_sections": [
        "aDlMLkpUELMU",
        "OLBDcqWvkXl3",
        "F__4rmBpkm6b"
      ],
      "toc_visible": true,
      "include_colab_link": true
    },
    "kernelspec": {
      "name": "python3",
      "display_name": "Python 3"
    }
  },
  "cells": [
    {
      "cell_type": "markdown",
      "metadata": {
        "id": "view-in-github",
        "colab_type": "text"
      },
      "source": [
        "<a href=\"https://colab.research.google.com/github/HumanCode44/About-Me/blob/main/1a_Markdown_About_Me_Exercise.ipynb\" target=\"_parent\"><img src=\"https://colab.research.google.com/assets/colab-badge.svg\" alt=\"Open In Colab\"/></a>"
      ]
    },
    {
      "cell_type": "markdown",
      "metadata": {
        "id": "aDlMLkpUELMU"
      },
      "source": [
        "## Instructions\n"
      ]
    },
    {
      "cell_type": "markdown",
      "metadata": {
        "id": "5AYg6QbZEOYe"
      },
      "source": [
        "\n",
        "\n",
        "1.   Go to your Google Drive folder that we shared with you called 'Exercises - Your Name'\n",
        "2.   Create a new Colab notebook by going to **New - > More -> Google Colaboratory**\n",
        "3.  Name your new notebook **about-me**\n"
      ]
    },
    {
      "cell_type": "markdown",
      "source": [
        "## About Me Page\n"
      ],
      "metadata": {
        "id": "OLBDcqWvkXl3"
      }
    },
    {
      "cell_type": "markdown",
      "source": [
        "\n",
        "Create an About Me page using the different markdown features.  \n",
        "\n",
        "You'll be sharing this with the class and introducing yourself.  \n",
        "\n",
        "\n",
        "\n",
        "\n",
        "**Include at least one of each:**\n",
        "- Headings\n",
        "- Bold and/or italic text\n",
        "- Links\n",
        "- Lists \n",
        "  - ordered (numbered)\n",
        "  - unordered\n",
        "- Table\n",
        "- Image - of you or something important to you!\n"
      ],
      "metadata": {
        "id": "HYaUKbtZkgij"
      }
    },
    {
      "cell_type": "markdown",
      "source": [
        "\n",
        "## Bonus\n"
      ],
      "metadata": {
        "id": "F__4rmBpkm6b"
      }
    },
    {
      "cell_type": "markdown",
      "source": [
        "\n",
        "BONUS: HTML magic!!\n",
        "\n",
        "**Include the following information**\n",
        "- Your name  \n",
        "- Why did you sign up for this bootcamp?  \n",
        "- If you had your human body, but the head of an animal, what animal would you pick?\n",
        "- If you had to delete all but 3 apps from your smartphone, which ones would you keep? \n",
        "- As a kid, did you ever do something wrong but manage to pin it on your siblings?  If so, what was it?\n",
        "- What are your favorite podcasts?  (Or if you're not a podcast person share your favorite tv show, music, or other category.)\n",
        "- Anything else you want to share - be creative and have fun!\n"
      ],
      "metadata": {
        "id": "dX40-hosklXz"
      }
    }
  ]
}