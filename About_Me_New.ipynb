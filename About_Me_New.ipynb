{
  "nbformat": 4,
  "nbformat_minor": 0,
  "metadata": {
    "colab": {
      "provenance": [],
      "authorship_tag": "ABX9TyOIiWmTYmTp+Lkr3qymYIHh",
      "include_colab_link": true
    },
    "kernelspec": {
      "name": "python3",
      "display_name": "Python 3"
    },
    "language_info": {
      "name": "python"
    }
  },
  "cells": [
    {
      "cell_type": "markdown",
      "metadata": {
        "id": "view-in-github",
        "colab_type": "text"
      },
      "source": [
        "<a href=\"https://colab.research.google.com/github/HumanCode44/About-Me/blob/main/About_Me_New.ipynb\" target=\"_parent\"><img src=\"https://colab.research.google.com/assets/colab-badge.svg\" alt=\"Open In Colab\"/></a>"
      ]
    },
    {
      "cell_type": "code",
      "execution_count": null,
      "metadata": {
        "id": "zAeAjiQcnZs8"
      },
      "outputs": [],
      "source": []
    },
    {
      "cell_type": "markdown",
      "source": [
        "# About Me\n",
        "\n",
        "Hi my name is Nicky Hughes, I'm 29 and I'm currently working at **Tricore Reference Laboratory**\n",
        "\n",
        "- I Like to Climb\n",
        "- I've never broken a bone\n",
        "- I'm a **Seahawks** Fan\n",
        "\n",
        "- I signed up for this bootcamp to further my career prospects and combine my experince in bio/lab science with emerging technology.\n",
        "- My favorite Podcast is *The Nosleep Podcast* and I actually wrote a story for them called [Tomb Adrift in the Stars](https://www.thenosleeppodcast.com/episodes/s17/17x18)\n",
        "- If I had the head of an animal I would pick a Jackal, because I'm a fan of Egyptian Mythology\n",
        "##Apps I would Keep on my Smartphone\n",
        "\n",
        "Communications | Fun| Utility|\n",
        "- | - | -\n",
        "Messenger| Instagram | Calculator\n",
        "\n",
        "##The Sandias are Important to me because they make Albuquerque Beautiful\n",
        "\n",
        "![link text](https://as2.ftcdn.net/v2/jpg/03/49/29/95/1000_F_349299514_32RDFkL5EFewAHSb6i4a0YrSp9oLpwzj.jpg \"Picture of the Sandias\")\n",
        " \n",
        " *Image From Adobe Stock Images*\n",
        "\n",
        "\n",
        "##Top Things I Blamed on My Brother as a kid\n",
        "\n",
        " 1. Running over the snake in the backyard with my bike (it was a garter snake and my parents liked having it around to eat rodents)\n",
        " 1. Putting holes in the flower beds with a pogo stick\n",
        " 1. Getting the kite tangled in the top of a tree\n",
        " 1. Running over a Goat Head and flattening both bike tires"
      ],
      "metadata": {
        "id": "hDqePKvdnalD"
      }
    },
    {
      "cell_type": "code",
      "source": [],
      "metadata": {
        "id": "1oIfMnxJobwA"
      },
      "execution_count": null,
      "outputs": []
    }
  ]
}